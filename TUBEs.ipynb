{
 "cells": [
  {
   "cell_type": "code",
   "execution_count": null,
   "metadata": {},
   "outputs": [],
   "source": [
    "import pandas as pd \n",
    "import matplotlib as plt\n",
    "data = pd.read_csv(r\"C:\\Users\\Niop\\Documents\\Air_Traffic_Passenger_Statistics.csv\")\n",
    "# Dataset ini mengenai statistik penumpang lalu lintas udara atau penerbangan,\n",
    "# informasi tentang maskapai penerbangan, jenis bandara, wilayah penerbangan berangkat dan tiba, \n",
    "# informasi tentang jenis kegiatan, kategori harga, terminal, area boarding, dan jumlah penumpang\n",
    "\n",
    "# Dataset ini memiliki format (.csv) \n",
    "# Dataset ini didapatkan dari website https://www.kaggle.com/datasets\n",
    "# Dataset ini "
   ]
  },
  {
   "cell_type": "code",
   "execution_count": 4,
   "metadata": {},
   "outputs": [
    {
     "name": "stdout",
     "output_type": "stream",
     "text": [
      "<class 'pandas.core.frame.DataFrame'>\n",
      "RangeIndex: 15007 entries, 0 to 15006\n",
      "Data columns (total 16 columns):\n",
      " #   Column                       Non-Null Count  Dtype \n",
      "---  ------                       --------------  ----- \n",
      " 0   Activity Period              15007 non-null  int64 \n",
      " 1   Operating Airline            15007 non-null  object\n",
      " 2   Operating Airline IATA Code  14953 non-null  object\n",
      " 3   Published Airline            15007 non-null  object\n",
      " 4   Published Airline IATA Code  14953 non-null  object\n",
      " 5   GEO Summary                  15007 non-null  object\n",
      " 6   GEO Region                   15007 non-null  object\n",
      " 7   Activity Type Code           15007 non-null  object\n",
      " 8   Price Category Code          15007 non-null  object\n",
      " 9   Terminal                     15007 non-null  object\n",
      " 10  Boarding Area                15007 non-null  object\n",
      " 11  Passenger Count              15007 non-null  int64 \n",
      " 12  Adjusted Activity Type Code  15007 non-null  object\n",
      " 13  Adjusted Passenger Count     15007 non-null  int64 \n",
      " 14  Year                         15007 non-null  int64 \n",
      " 15  Month                        15007 non-null  object\n",
      "dtypes: int64(4), object(12)\n",
      "memory usage: 1.8+ MB\n"
     ]
    }
   ],
   "source": [
    "import pandas as pd\n",
    "data = pd.read_csv(r\"C:\\Users\\Niop\\Documents\\Air_Traffic_Passenger_Statistics.csv\")\n",
    "data.info()"
   ]
  },
  {
   "cell_type": "code",
   "execution_count": null,
   "metadata": {},
   "outputs": [],
   "source": []
  },
  {
   "cell_type": "code",
   "execution_count": 1,
   "metadata": {},
   "outputs": [
    {
     "data": {
      "text/html": [
       "<div>\n",
       "<style scoped>\n",
       "    .dataframe tbody tr th:only-of-type {\n",
       "        vertical-align: middle;\n",
       "    }\n",
       "\n",
       "    .dataframe tbody tr th {\n",
       "        vertical-align: top;\n",
       "    }\n",
       "\n",
       "    .dataframe thead th {\n",
       "        text-align: right;\n",
       "    }\n",
       "</style>\n",
       "<table border=\"1\" class=\"dataframe\">\n",
       "  <thead>\n",
       "    <tr style=\"text-align: right;\">\n",
       "      <th></th>\n",
       "      <th>Activity Period</th>\n",
       "      <th>Passenger Count</th>\n",
       "      <th>Adjusted Passenger Count</th>\n",
       "      <th>Year</th>\n",
       "    </tr>\n",
       "  </thead>\n",
       "  <tbody>\n",
       "    <tr>\n",
       "      <th>count</th>\n",
       "      <td>15007.000000</td>\n",
       "      <td>15007.000000</td>\n",
       "      <td>15007.000000</td>\n",
       "      <td>15007.000000</td>\n",
       "    </tr>\n",
       "    <tr>\n",
       "      <th>mean</th>\n",
       "      <td>201045.073366</td>\n",
       "      <td>29240.521090</td>\n",
       "      <td>29331.917105</td>\n",
       "      <td>2010.385220</td>\n",
       "    </tr>\n",
       "    <tr>\n",
       "      <th>std</th>\n",
       "      <td>313.336196</td>\n",
       "      <td>58319.509284</td>\n",
       "      <td>58284.182219</td>\n",
       "      <td>3.137589</td>\n",
       "    </tr>\n",
       "    <tr>\n",
       "      <th>min</th>\n",
       "      <td>200507.000000</td>\n",
       "      <td>1.000000</td>\n",
       "      <td>1.000000</td>\n",
       "      <td>2005.000000</td>\n",
       "    </tr>\n",
       "    <tr>\n",
       "      <th>25%</th>\n",
       "      <td>200803.000000</td>\n",
       "      <td>5373.500000</td>\n",
       "      <td>5495.500000</td>\n",
       "      <td>2008.000000</td>\n",
       "    </tr>\n",
       "    <tr>\n",
       "      <th>50%</th>\n",
       "      <td>201011.000000</td>\n",
       "      <td>9210.000000</td>\n",
       "      <td>9354.000000</td>\n",
       "      <td>2010.000000</td>\n",
       "    </tr>\n",
       "    <tr>\n",
       "      <th>75%</th>\n",
       "      <td>201308.000000</td>\n",
       "      <td>21158.500000</td>\n",
       "      <td>21182.000000</td>\n",
       "      <td>2013.000000</td>\n",
       "    </tr>\n",
       "    <tr>\n",
       "      <th>max</th>\n",
       "      <td>201603.000000</td>\n",
       "      <td>659837.000000</td>\n",
       "      <td>659837.000000</td>\n",
       "      <td>2016.000000</td>\n",
       "    </tr>\n",
       "  </tbody>\n",
       "</table>\n",
       "</div>"
      ],
      "text/plain": [
       "       Activity Period  Passenger Count  Adjusted Passenger Count  \\\n",
       "count     15007.000000     15007.000000              15007.000000   \n",
       "mean     201045.073366     29240.521090              29331.917105   \n",
       "std         313.336196     58319.509284              58284.182219   \n",
       "min      200507.000000         1.000000                  1.000000   \n",
       "25%      200803.000000      5373.500000               5495.500000   \n",
       "50%      201011.000000      9210.000000               9354.000000   \n",
       "75%      201308.000000     21158.500000              21182.000000   \n",
       "max      201603.000000    659837.000000             659837.000000   \n",
       "\n",
       "               Year  \n",
       "count  15007.000000  \n",
       "mean    2010.385220  \n",
       "std        3.137589  \n",
       "min     2005.000000  \n",
       "25%     2008.000000  \n",
       "50%     2010.000000  \n",
       "75%     2013.000000  \n",
       "max     2016.000000  "
      ]
     },
     "execution_count": 1,
     "metadata": {},
     "output_type": "execute_result"
    }
   ],
   "source": [
    "import pandas as pd\n",
    "data = pd.read_csv(r\"C:\\Users\\Niop\\Documents\\Air_Traffic_Passenger_Statistics.csv\")\n",
    "data.describe()"
   ]
  },
  {
   "cell_type": "code",
   "execution_count": 2,
   "metadata": {},
   "outputs": [
    {
     "name": "stderr",
     "output_type": "stream",
     "text": [
      "C:\\Users\\Niop\\AppData\\Local\\Temp\\ipykernel_18620\\488725368.py:1: FutureWarning: The default value of numeric_only in DataFrame.quantile is deprecated. In a future version, it will default to False. Select only valid columns or specify the value of numeric_only to silence this warning.\n",
      "  data.quantile(.1)\n"
     ]
    },
    {
     "data": {
      "text/plain": [
       "Activity Period             200608.0\n",
       "Passenger Count               2417.6\n",
       "Adjusted Passenger Count      2587.2\n",
       "Year                          2006.0\n",
       "Name: 0.1, dtype: float64"
      ]
     },
     "execution_count": 2,
     "metadata": {},
     "output_type": "execute_result"
    }
   ],
   "source": [
    "data.quantile(.1)\n"
   ]
  },
  {
   "cell_type": "code",
   "execution_count": 3,
   "metadata": {},
   "outputs": [
    {
     "name": "stderr",
     "output_type": "stream",
     "text": [
      "C:\\Users\\Niop\\AppData\\Local\\Temp\\ipykernel_18620\\1642103610.py:1: FutureWarning: The default value of numeric_only in DataFrame.quantile is deprecated. In a future version, it will default to False. Select only valid columns or specify the value of numeric_only to silence this warning.\n",
      "  data.quantile(.25)\n"
     ]
    },
    {
     "data": {
      "text/plain": [
       "Activity Period             200803.0\n",
       "Passenger Count               5373.5\n",
       "Adjusted Passenger Count      5495.5\n",
       "Year                          2008.0\n",
       "Name: 0.25, dtype: float64"
      ]
     },
     "execution_count": 3,
     "metadata": {},
     "output_type": "execute_result"
    }
   ],
   "source": [
    "data.quantile(.25)"
   ]
  },
  {
   "cell_type": "code",
   "execution_count": 4,
   "metadata": {},
   "outputs": [
    {
     "name": "stderr",
     "output_type": "stream",
     "text": [
      "C:\\Users\\Niop\\AppData\\Local\\Temp\\ipykernel_18620\\1855373909.py:1: FutureWarning: The default value of numeric_only in DataFrame.quantile is deprecated. In a future version, it will default to False. Select only valid columns or specify the value of numeric_only to silence this warning.\n",
      "  data.quantile(.5)\n"
     ]
    },
    {
     "data": {
      "text/plain": [
       "Activity Period             201011.0\n",
       "Passenger Count               9210.0\n",
       "Adjusted Passenger Count      9354.0\n",
       "Year                          2010.0\n",
       "Name: 0.5, dtype: float64"
      ]
     },
     "execution_count": 4,
     "metadata": {},
     "output_type": "execute_result"
    }
   ],
   "source": [
    "data.quantile(.5)"
   ]
  },
  {
   "cell_type": "code",
   "execution_count": 5,
   "metadata": {},
   "outputs": [
    {
     "name": "stderr",
     "output_type": "stream",
     "text": [
      "C:\\Users\\Niop\\AppData\\Local\\Temp\\ipykernel_18620\\1499902053.py:1: FutureWarning: The default value of numeric_only in DataFrame.quantile is deprecated. In a future version, it will default to False. Select only valid columns or specify the value of numeric_only to silence this warning.\n",
      "  data.quantile(.7)\n"
     ]
    },
    {
     "data": {
      "text/plain": [
       "Activity Period             201301.0\n",
       "Passenger Count              17713.4\n",
       "Adjusted Passenger Count     17755.4\n",
       "Year                          2013.0\n",
       "Name: 0.7, dtype: float64"
      ]
     },
     "execution_count": 5,
     "metadata": {},
     "output_type": "execute_result"
    }
   ],
   "source": [
    "data.quantile(.7)"
   ]
  },
  {
   "cell_type": "code",
   "execution_count": 6,
   "metadata": {},
   "outputs": [
    {
     "name": "stderr",
     "output_type": "stream",
     "text": [
      "C:\\Users\\Niop\\AppData\\Local\\Temp\\ipykernel_18620\\1337171084.py:1: FutureWarning: The default value of numeric_only in DataFrame.quantile is deprecated. In a future version, it will default to False. Select only valid columns or specify the value of numeric_only to silence this warning.\n",
      "  data.quantile(.9)\n"
     ]
    },
    {
     "data": {
      "text/plain": [
       "Activity Period             201503.0\n",
       "Passenger Count              75293.6\n",
       "Adjusted Passenger Count     75293.6\n",
       "Year                          2015.0\n",
       "Name: 0.9, dtype: float64"
      ]
     },
     "execution_count": 6,
     "metadata": {},
     "output_type": "execute_result"
    }
   ],
   "source": [
    "data.quantile(.9)"
   ]
  },
  {
   "cell_type": "code",
   "execution_count": 4,
   "metadata": {},
   "outputs": [
    {
     "name": "stderr",
     "output_type": "stream",
     "text": [
      "C:\\Users\\Niop\\AppData\\Local\\Temp\\ipykernel_32424\\1746404976.py:3: FutureWarning: The default value of numeric_only in DataFrame.max is deprecated. In a future version, it will default to False. In addition, specifying 'numeric_only=None' is deprecated. Select only valid columns or specify the value of numeric_only to silence this warning.\n",
      "  maximum = data.max()\n"
     ]
    },
    {
     "data": {
      "text/plain": [
       "201603"
      ]
     },
     "execution_count": 4,
     "metadata": {},
     "output_type": "execute_result"
    }
   ],
   "source": [
    "import pandas as pd\n",
    "data = pd.read_csv(r\"C:\\Users\\Niop\\Documents\\Air_Traffic_Passenger_Statistics.csv\")\n",
    "maximum = data.max()\n",
    "maximum [\"Activity Period\"]"
   ]
  },
  {
   "cell_type": "code",
   "execution_count": 4,
   "metadata": {},
   "outputs": [
    {
     "data": {
      "text/plain": [
       "United Airlines - Pre 07/01/2013    2154\n",
       "SkyWest Airlines                     963\n",
       "United Airlines                      892\n",
       "Alaska Airlines                      751\n",
       "Delta Air Lines                      386\n",
       "                                    ... \n",
       "Evergreen International Airlines       2\n",
       "Atlas Air, Inc                         2\n",
       "Xtra Airways                           2\n",
       "Pacific Aviation                       2\n",
       "Boeing Company                         1\n",
       "Name: Operating Airline, Length: 77, dtype: int64"
      ]
     },
     "execution_count": 4,
     "metadata": {},
     "output_type": "execute_result"
    }
   ],
   "source": [
    "import pandas as pd\n",
    "data = pd.read_csv(r\"C:\\Users\\Niop\\Documents\\Air_Traffic_Passenger_Statistics.csv\")\n",
    "#data\n",
    "data[\"Operating Airline\"].value_counts()"
   ]
  },
  {
   "cell_type": "code",
   "execution_count": 2,
   "metadata": {},
   "outputs": [
    {
     "data": {
      "text/html": [
       "<div>\n",
       "<style scoped>\n",
       "    .dataframe tbody tr th:only-of-type {\n",
       "        vertical-align: middle;\n",
       "    }\n",
       "\n",
       "    .dataframe tbody tr th {\n",
       "        vertical-align: top;\n",
       "    }\n",
       "\n",
       "    .dataframe thead th {\n",
       "        text-align: right;\n",
       "    }\n",
       "</style>\n",
       "<table border=\"1\" class=\"dataframe\">\n",
       "  <thead>\n",
       "    <tr style=\"text-align: right;\">\n",
       "      <th></th>\n",
       "      <th>Activity Period</th>\n",
       "      <th>Operating Airline</th>\n",
       "      <th>Operating Airline IATA Code</th>\n",
       "      <th>Published Airline</th>\n",
       "      <th>Published Airline IATA Code</th>\n",
       "      <th>GEO Summary</th>\n",
       "      <th>GEO Region</th>\n",
       "      <th>Activity Type Code</th>\n",
       "      <th>Price Category Code</th>\n",
       "      <th>Terminal</th>\n",
       "      <th>Boarding Area</th>\n",
       "      <th>Passenger Count</th>\n",
       "      <th>Adjusted Activity Type Code</th>\n",
       "      <th>Adjusted Passenger Count</th>\n",
       "      <th>Year</th>\n",
       "      <th>Month</th>\n",
       "    </tr>\n",
       "  </thead>\n",
       "  <tbody>\n",
       "    <tr>\n",
       "      <th>0</th>\n",
       "      <td>200507</td>\n",
       "      <td>ATA Airlines</td>\n",
       "      <td>TZ</td>\n",
       "      <td>ATA Airlines</td>\n",
       "      <td>TZ</td>\n",
       "      <td>Domestic</td>\n",
       "      <td>US</td>\n",
       "      <td>Deplaned</td>\n",
       "      <td>Low Fare</td>\n",
       "      <td>Terminal 1</td>\n",
       "      <td>B</td>\n",
       "      <td>27271</td>\n",
       "      <td>Deplaned</td>\n",
       "      <td>27271</td>\n",
       "      <td>2005</td>\n",
       "      <td>July</td>\n",
       "    </tr>\n",
       "    <tr>\n",
       "      <th>1</th>\n",
       "      <td>200507</td>\n",
       "      <td>ATA Airlines</td>\n",
       "      <td>TZ</td>\n",
       "      <td>ATA Airlines</td>\n",
       "      <td>TZ</td>\n",
       "      <td>Domestic</td>\n",
       "      <td>US</td>\n",
       "      <td>Enplaned</td>\n",
       "      <td>Low Fare</td>\n",
       "      <td>Terminal 1</td>\n",
       "      <td>B</td>\n",
       "      <td>29131</td>\n",
       "      <td>Enplaned</td>\n",
       "      <td>29131</td>\n",
       "      <td>2005</td>\n",
       "      <td>July</td>\n",
       "    </tr>\n",
       "    <tr>\n",
       "      <th>2</th>\n",
       "      <td>200507</td>\n",
       "      <td>ATA Airlines</td>\n",
       "      <td>TZ</td>\n",
       "      <td>ATA Airlines</td>\n",
       "      <td>TZ</td>\n",
       "      <td>Domestic</td>\n",
       "      <td>US</td>\n",
       "      <td>Thru / Transit</td>\n",
       "      <td>Low Fare</td>\n",
       "      <td>Terminal 1</td>\n",
       "      <td>B</td>\n",
       "      <td>5415</td>\n",
       "      <td>Thru / Transit * 2</td>\n",
       "      <td>10830</td>\n",
       "      <td>2005</td>\n",
       "      <td>July</td>\n",
       "    </tr>\n",
       "    <tr>\n",
       "      <th>3</th>\n",
       "      <td>200507</td>\n",
       "      <td>Air Canada</td>\n",
       "      <td>AC</td>\n",
       "      <td>Air Canada</td>\n",
       "      <td>AC</td>\n",
       "      <td>International</td>\n",
       "      <td>Canada</td>\n",
       "      <td>Deplaned</td>\n",
       "      <td>Other</td>\n",
       "      <td>Terminal 1</td>\n",
       "      <td>B</td>\n",
       "      <td>35156</td>\n",
       "      <td>Deplaned</td>\n",
       "      <td>35156</td>\n",
       "      <td>2005</td>\n",
       "      <td>July</td>\n",
       "    </tr>\n",
       "    <tr>\n",
       "      <th>4</th>\n",
       "      <td>200507</td>\n",
       "      <td>Air Canada</td>\n",
       "      <td>AC</td>\n",
       "      <td>Air Canada</td>\n",
       "      <td>AC</td>\n",
       "      <td>International</td>\n",
       "      <td>Canada</td>\n",
       "      <td>Enplaned</td>\n",
       "      <td>Other</td>\n",
       "      <td>Terminal 1</td>\n",
       "      <td>B</td>\n",
       "      <td>34090</td>\n",
       "      <td>Enplaned</td>\n",
       "      <td>34090</td>\n",
       "      <td>2005</td>\n",
       "      <td>July</td>\n",
       "    </tr>\n",
       "    <tr>\n",
       "      <th>...</th>\n",
       "      <td>...</td>\n",
       "      <td>...</td>\n",
       "      <td>...</td>\n",
       "      <td>...</td>\n",
       "      <td>...</td>\n",
       "      <td>...</td>\n",
       "      <td>...</td>\n",
       "      <td>...</td>\n",
       "      <td>...</td>\n",
       "      <td>...</td>\n",
       "      <td>...</td>\n",
       "      <td>...</td>\n",
       "      <td>...</td>\n",
       "      <td>...</td>\n",
       "      <td>...</td>\n",
       "      <td>...</td>\n",
       "    </tr>\n",
       "    <tr>\n",
       "      <th>15002</th>\n",
       "      <td>201603</td>\n",
       "      <td>Virgin America</td>\n",
       "      <td>VX</td>\n",
       "      <td>Virgin America</td>\n",
       "      <td>VX</td>\n",
       "      <td>Domestic</td>\n",
       "      <td>US</td>\n",
       "      <td>Enplaned</td>\n",
       "      <td>Low Fare</td>\n",
       "      <td>Terminal 2</td>\n",
       "      <td>D</td>\n",
       "      <td>194636</td>\n",
       "      <td>Enplaned</td>\n",
       "      <td>194636</td>\n",
       "      <td>2016</td>\n",
       "      <td>March</td>\n",
       "    </tr>\n",
       "    <tr>\n",
       "      <th>15003</th>\n",
       "      <td>201603</td>\n",
       "      <td>Virgin America</td>\n",
       "      <td>VX</td>\n",
       "      <td>Virgin America</td>\n",
       "      <td>VX</td>\n",
       "      <td>International</td>\n",
       "      <td>Mexico</td>\n",
       "      <td>Deplaned</td>\n",
       "      <td>Low Fare</td>\n",
       "      <td>International</td>\n",
       "      <td>A</td>\n",
       "      <td>4189</td>\n",
       "      <td>Deplaned</td>\n",
       "      <td>4189</td>\n",
       "      <td>2016</td>\n",
       "      <td>March</td>\n",
       "    </tr>\n",
       "    <tr>\n",
       "      <th>15004</th>\n",
       "      <td>201603</td>\n",
       "      <td>Virgin America</td>\n",
       "      <td>VX</td>\n",
       "      <td>Virgin America</td>\n",
       "      <td>VX</td>\n",
       "      <td>International</td>\n",
       "      <td>Mexico</td>\n",
       "      <td>Enplaned</td>\n",
       "      <td>Low Fare</td>\n",
       "      <td>Terminal 2</td>\n",
       "      <td>D</td>\n",
       "      <td>4693</td>\n",
       "      <td>Enplaned</td>\n",
       "      <td>4693</td>\n",
       "      <td>2016</td>\n",
       "      <td>March</td>\n",
       "    </tr>\n",
       "    <tr>\n",
       "      <th>15005</th>\n",
       "      <td>201603</td>\n",
       "      <td>Virgin Atlantic</td>\n",
       "      <td>VS</td>\n",
       "      <td>Virgin Atlantic</td>\n",
       "      <td>VS</td>\n",
       "      <td>International</td>\n",
       "      <td>Europe</td>\n",
       "      <td>Deplaned</td>\n",
       "      <td>Other</td>\n",
       "      <td>International</td>\n",
       "      <td>A</td>\n",
       "      <td>12313</td>\n",
       "      <td>Deplaned</td>\n",
       "      <td>12313</td>\n",
       "      <td>2016</td>\n",
       "      <td>March</td>\n",
       "    </tr>\n",
       "    <tr>\n",
       "      <th>15006</th>\n",
       "      <td>201603</td>\n",
       "      <td>Virgin Atlantic</td>\n",
       "      <td>VS</td>\n",
       "      <td>Virgin Atlantic</td>\n",
       "      <td>VS</td>\n",
       "      <td>International</td>\n",
       "      <td>Europe</td>\n",
       "      <td>Enplaned</td>\n",
       "      <td>Other</td>\n",
       "      <td>International</td>\n",
       "      <td>A</td>\n",
       "      <td>10898</td>\n",
       "      <td>Enplaned</td>\n",
       "      <td>10898</td>\n",
       "      <td>2016</td>\n",
       "      <td>March</td>\n",
       "    </tr>\n",
       "  </tbody>\n",
       "</table>\n",
       "<p>15007 rows × 16 columns</p>\n",
       "</div>"
      ],
      "text/plain": [
       "       Activity Period Operating Airline Operating Airline IATA Code  \\\n",
       "0               200507      ATA Airlines                          TZ   \n",
       "1               200507      ATA Airlines                          TZ   \n",
       "2               200507      ATA Airlines                          TZ   \n",
       "3               200507       Air Canada                           AC   \n",
       "4               200507       Air Canada                           AC   \n",
       "...                ...               ...                         ...   \n",
       "15002           201603    Virgin America                          VX   \n",
       "15003           201603    Virgin America                          VX   \n",
       "15004           201603    Virgin America                          VX   \n",
       "15005           201603   Virgin Atlantic                          VS   \n",
       "15006           201603   Virgin Atlantic                          VS   \n",
       "\n",
       "      Published Airline Published Airline IATA Code    GEO Summary GEO Region  \\\n",
       "0          ATA Airlines                          TZ       Domestic         US   \n",
       "1          ATA Airlines                          TZ       Domestic         US   \n",
       "2          ATA Airlines                          TZ       Domestic         US   \n",
       "3           Air Canada                           AC  International     Canada   \n",
       "4           Air Canada                           AC  International     Canada   \n",
       "...                 ...                         ...            ...        ...   \n",
       "15002    Virgin America                          VX       Domestic         US   \n",
       "15003    Virgin America                          VX  International     Mexico   \n",
       "15004    Virgin America                          VX  International     Mexico   \n",
       "15005   Virgin Atlantic                          VS  International     Europe   \n",
       "15006   Virgin Atlantic                          VS  International     Europe   \n",
       "\n",
       "      Activity Type Code Price Category Code       Terminal Boarding Area  \\\n",
       "0               Deplaned            Low Fare     Terminal 1             B   \n",
       "1               Enplaned            Low Fare     Terminal 1             B   \n",
       "2         Thru / Transit            Low Fare     Terminal 1             B   \n",
       "3               Deplaned               Other     Terminal 1             B   \n",
       "4               Enplaned               Other     Terminal 1             B   \n",
       "...                  ...                 ...            ...           ...   \n",
       "15002           Enplaned            Low Fare     Terminal 2             D   \n",
       "15003           Deplaned            Low Fare  International             A   \n",
       "15004           Enplaned            Low Fare     Terminal 2             D   \n",
       "15005           Deplaned               Other  International             A   \n",
       "15006           Enplaned               Other  International             A   \n",
       "\n",
       "       Passenger Count Adjusted Activity Type Code  Adjusted Passenger Count  \\\n",
       "0                27271                    Deplaned                     27271   \n",
       "1                29131                    Enplaned                     29131   \n",
       "2                 5415          Thru / Transit * 2                     10830   \n",
       "3                35156                    Deplaned                     35156   \n",
       "4                34090                    Enplaned                     34090   \n",
       "...                ...                         ...                       ...   \n",
       "15002           194636                    Enplaned                    194636   \n",
       "15003             4189                    Deplaned                      4189   \n",
       "15004             4693                    Enplaned                      4693   \n",
       "15005            12313                    Deplaned                     12313   \n",
       "15006            10898                    Enplaned                     10898   \n",
       "\n",
       "       Year  Month  \n",
       "0      2005   July  \n",
       "1      2005   July  \n",
       "2      2005   July  \n",
       "3      2005   July  \n",
       "4      2005   July  \n",
       "...     ...    ...  \n",
       "15002  2016  March  \n",
       "15003  2016  March  \n",
       "15004  2016  March  \n",
       "15005  2016  March  \n",
       "15006  2016  March  \n",
       "\n",
       "[15007 rows x 16 columns]"
      ]
     },
     "execution_count": 2,
     "metadata": {},
     "output_type": "execute_result"
    }
   ],
   "source": [
    "import pandas as pd\n",
    "data = pd.read_csv(r\"C:\\Users\\Niop\\Documents\\Air_Traffic_Passenger_Statistics.csv\")\n",
    "data\n",
    "#data[\"Terminal\"].value_counts()\n",
    "# international hanya untuk penerbangan komersil international\n",
    "# terminal 1,2, dan 3 untuk penerbangan komersil\n",
    "# other diperuntukan unutuk penerbangan non komersil "
   ]
  },
  {
   "cell_type": "code",
   "execution_count": 9,
   "metadata": {},
   "outputs": [
    {
     "data": {
      "text/plain": [
       "<AxesSubplot: title={'center': 'Banyak Penerbangan Setiap Tahun'}>"
      ]
     },
     "execution_count": 9,
     "metadata": {},
     "output_type": "execute_result"
    },
    {
     "data": {
      "image/png": "[encoded data removed]",
      "text/plain": [
       "<Figure size 640x480 with 1 Axes>"
      ]
     },
     "metadata": {},
     "output_type": "display_data"
    }
   ],
   "source": [
    "import pandas as pd\n",
    "import matplotlib as plt\n",
    "data = pd.read_csv(r\"C:\\Users\\Niop\\Documents\\Air_Traffic_Passenger_Statistics.csv\")\n",
    "\n",
    "banyak = data[\"Year\"].value_counts()\n",
    "banyak.plot(kind = \"barh\", title = \"Banyak Penerbangan Setiap Tahun\")\n"
   ]
  },
  {
   "cell_type": "code",
   "execution_count": 9,
   "metadata": {},
   "outputs": [
    {
     "data": {
      "text/plain": [
       "<AxesSubplot: title={'center': 'jumlah penerbangan domestik setiap tahun'}>"
      ]
     },
     "execution_count": 9,
     "metadata": {},
     "output_type": "execute_result"
    },
    {
     "data": {
      "image/png": "[encoded data removed]",
      "text/plain": [
       "<Figure size 640x480 with 1 Axes>"
      ]
     },
     "metadata": {},
     "output_type": "display_data"
    }
   ],
   "source": [
    "domestik = data.loc[data[\"GEO Summary\"] == \"Domestic\"]\n",
    "baru = domestik[\"Year\"].value_counts()\n",
    "baru.plot(kind = \"barh\", title = \"jumlah penerbangan domestik setiap tahun\")\n"
   ]
  },
  {
   "cell_type": "code",
   "execution_count": 10,
   "metadata": {},
   "outputs": [
    {
     "data": {
      "text/plain": [
       "<AxesSubplot: title={'center': 'banyak penerbangan domestik dan internasional'}>"
      ]
     },
     "execution_count": 10,
     "metadata": {},
     "output_type": "execute_result"
    },
    {
     "data": {
      "image/png": "[encoded data removed]",
      "text/plain": [
       "<Figure size 640x480 with 1 Axes>"
      ]
     },
     "metadata": {},
     "output_type": "display_data"
    }
   ],
   "source": [
    "import pandas as pd\n",
    "import matplotlib as plt\n",
    "data = pd.read_csv(r\"C:\\Users\\Niop\\Documents\\Air_Traffic_Passenger_Statistics.csv\")\n",
    "\n",
    "domestik = data.loc[data[\"GEO Summary\"] == \"Domestic\"]\n",
    "baru1 = domestik[\"Year\"].value_counts()\n",
    "internasional = data.loc[data[\"GEO Summary\"] == \"International\"]\n",
    "baru2 = internasional[\"Year\"].value_counts() \n",
    "\n",
    "baru = {}\n",
    "baru[\"Domesitk\"] = baru1\n",
    "baru[\"Internasional\"] = baru2\n",
    "\n",
    "data2 = pd.DataFrame(baru)\n",
    "data2.plot(kind = \"bar\", title = \"banyak penerbangan domestik dan internasional\")"
   ]
  },
  {
   "cell_type": "code",
   "execution_count": 49,
   "metadata": {},
   "outputs": [
    {
     "data": {
      "text/plain": [
       "<AxesSubplot: title={'center': 'Keramaian Setiap terminal'}>"
      ]
     },
     "execution_count": 49,
     "metadata": {},
     "output_type": "execute_result"
    },
    {
     "data": {
      "image/png": "[encoded data removed]",
      "text/plain": [
       "<Figure size 640x480 with 1 Axes>"
      ]
     },
     "metadata": {},
     "output_type": "display_data"
    }
   ],
   "source": [
    "inter = data.loc[data[\"Terminal\"] == \"International\"]\n",
    "baru1 = inter[\"Year\"].value_counts()\n",
    "\n",
    "satu = data.loc[data[\"Terminal\"] == \"Terminal 1\"]\n",
    "baru2 = satu[\"Year\"].value_counts()\n",
    "\n",
    "dua = data.loc[data[\"Terminal\"] == \"Terminal 2\"]\n",
    "baru3 = dua[\"Year\"].value_counts()\n",
    "\n",
    "tiga = data.loc[data[\"Terminal\"] == \"Terminal 3\"]\n",
    "baru4 = tiga[\"Year\"].value_counts()\n",
    "\n",
    "other = data.loc[data[\"Terminal\"] == \"Other\"]\n",
    "baru5 = other[\"Year\"].value_counts()\n",
    "\n",
    "new = {}\n",
    "new[\"Internasional\"] = baru1\n",
    "new[\"Terminal1\"] = baru2\n",
    "new[\"Terminal2\"] = baru3\n",
    "new[\"Terminal3\"] = baru4\n",
    "new[\"Other\"] = baru5\n",
    "\n",
    "b = pd.DataFrame(new)\n",
    "b_baru = b.fillna(0)\n",
    "\n",
    "b_baru.plot(kind=\"line\",title = \"Keramaian Setiap terminal\")\n"
   ]
  },
  {
   "cell_type": "code",
   "execution_count": null,
   "metadata": {},
   "outputs": [],
   "source": []
  }
 ],
 "metadata": {
  "kernelspec": {
   "display_name": "Python 3.9.13 64-bit (microsoft store)",
   "language": "python",
   "name": "python3"
  },
  "language_info": {
   "codemirror_mode": {
    "name": "ipython",
    "version": 3
   },
   "file_extension": ".py",
   "mimetype": "text/x-python",
   "name": "python",
   "nbconvert_exporter": "python",
   "pygments_lexer": "ipython3",
   "version": "3.9.13"
  },
  "orig_nbformat": 4,
  "vscode": {
   "interpreter": {
    "hash": "32a0a0b21ecd03ef7856d4deb6a9eb90230847e3bf7346a9a41986f1839d0da8"
   }
  }
 },
 "nbformat": 4,
 "nbformat_minor": 2
}
